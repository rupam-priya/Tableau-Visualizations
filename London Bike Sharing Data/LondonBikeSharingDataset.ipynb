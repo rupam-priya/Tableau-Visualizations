{
 "cells": [
  {
   "cell_type": "markdown",
   "id": "40007f8d",
   "metadata": {},
   "source": [
    "## LONDON BIKE SHARING DATASET FROM KAGGLE"
   ]
  },
  {
   "cell_type": "markdown",
   "id": "39dc4f98",
   "metadata": {},
   "source": [
    "The aim is to understand data, make it well suitable to create visualizations and create visualisation to uncover stories behind this data.Note that this will differ from the process of modifying the data to create preidctive models of do further analysis.<br>\n",
    "##### There are 2 steps-<br>\n",
    "1. Make the data ready to visualize- PYTHON\n",
    "2. Plan Visualization- TABLEAU"
   ]
  },
  {
   "cell_type": "markdown",
   "id": "1f11f04e",
   "metadata": {},
   "source": [
    "    MAKE DATA READY TO VISUALIZE"
   ]
  },
  {
   "cell_type": "markdown",
   "id": "730c310d",
   "metadata": {},
   "source": [
    "#### Metadata:<br>\n",
    "<font color = 'blue'>\"timestamp\"</font> - timestamp field for grouping the data<br>\n",
    "<font color = 'blue'>\"cnt\"</font>       - the count of a new bike shares<br>\n",
    "<font color = 'blue'>\"t1\" </font>       - real temperature in C<br>\n",
    "<font color = 'blue'>\"t2\"</font>        - temperature in C \"feels like\"<br>\n",
    "<font color = 'blue'>\"hum\"</font>       - humidity in percentage<br>\n",
    "<font color = 'blue'>\"wind_speed\"</font>   - wind speed in km/h<br>\n",
    "<font color = 'blue'>\"weather_code\" </font>- category of the weather<br>\n",
    "<font color = 'blue'>\"is_holiday\"</font> - boolean field - 1 holiday / 0 non holiday<br>\n",
    "<font color = 'blue'>\"is_weekend\"</font> - boolean field - 1 if the day is weekend<br>\n",
    "<font color = 'blue'>\"season\"</font> - category field meteorological seasons: 0-spring ; 1-summer; 2-fall; 3-winter.<br>\n",
    "\n",
    "##### \"weather_code\" category description:\n",
    "1 = Clear ; mostly clear but have some values with haze/fog/patches of fog/ fog in vicinity 2 = scattered clouds / few clouds 3 = Broken clouds 4 = Cloudy 7 = Rain/ light Rain shower/ Light rain 10 = rain with thunderstorm 26 = snowfall 94 = Freezing Fog"
   ]
  },
  {
   "cell_type": "code",
   "execution_count": 3,
   "id": "bb36bb6f",
   "metadata": {},
   "outputs": [],
   "source": [
    "import pandas as pd"
   ]
  },
  {
   "cell_type": "code",
   "execution_count": 5,
   "id": "71ac6997",
   "metadata": {},
   "outputs": [],
   "source": [
    "bikes = pd.read_csv(\"C:/Users/rupam/Desktop/LondonBikeSharingDataset/london_merged.csv\")"
   ]
  },
  {
   "cell_type": "code",
   "execution_count": 6,
   "id": "1a0f3087",
   "metadata": {},
   "outputs": [
    {
     "name": "stdout",
     "output_type": "stream",
     "text": [
      "<class 'pandas.core.frame.DataFrame'>\n",
      "RangeIndex: 17414 entries, 0 to 17413\n",
      "Data columns (total 10 columns):\n",
      " #   Column        Non-Null Count  Dtype  \n",
      "---  ------        --------------  -----  \n",
      " 0   timestamp     17414 non-null  object \n",
      " 1   cnt           17414 non-null  int64  \n",
      " 2   t1            17414 non-null  float64\n",
      " 3   t2            17414 non-null  float64\n",
      " 4   hum           17414 non-null  float64\n",
      " 5   wind_speed    17414 non-null  float64\n",
      " 6   weather_code  17414 non-null  float64\n",
      " 7   is_holiday    17414 non-null  float64\n",
      " 8   is_weekend    17414 non-null  float64\n",
      " 9   season        17414 non-null  float64\n",
      "dtypes: float64(8), int64(1), object(1)\n",
      "memory usage: 1.3+ MB\n"
     ]
    }
   ],
   "source": [
    "bikes.info() # explore data"
   ]
  },
  {
   "cell_type": "code",
   "execution_count": 8,
   "id": "38233836",
   "metadata": {},
   "outputs": [
    {
     "data": {
      "text/plain": [
       "(17414, 10)"
      ]
     },
     "execution_count": 8,
     "metadata": {},
     "output_type": "execute_result"
    }
   ],
   "source": [
    "bikes.shape # lets check dimensions of the dataframe"
   ]
  },
  {
   "cell_type": "code",
   "execution_count": 9,
   "id": "58b9f619",
   "metadata": {},
   "outputs": [
    {
     "data": {
      "text/html": [
       "<div>\n",
       "<style scoped>\n",
       "    .dataframe tbody tr th:only-of-type {\n",
       "        vertical-align: middle;\n",
       "    }\n",
       "\n",
       "    .dataframe tbody tr th {\n",
       "        vertical-align: top;\n",
       "    }\n",
       "\n",
       "    .dataframe thead th {\n",
       "        text-align: right;\n",
       "    }\n",
       "</style>\n",
       "<table border=\"1\" class=\"dataframe\">\n",
       "  <thead>\n",
       "    <tr style=\"text-align: right;\">\n",
       "      <th></th>\n",
       "      <th>timestamp</th>\n",
       "      <th>cnt</th>\n",
       "      <th>t1</th>\n",
       "      <th>t2</th>\n",
       "      <th>hum</th>\n",
       "      <th>wind_speed</th>\n",
       "      <th>weather_code</th>\n",
       "      <th>is_holiday</th>\n",
       "      <th>is_weekend</th>\n",
       "      <th>season</th>\n",
       "    </tr>\n",
       "  </thead>\n",
       "  <tbody>\n",
       "    <tr>\n",
       "      <th>0</th>\n",
       "      <td>2015-01-04 00:00:00</td>\n",
       "      <td>182</td>\n",
       "      <td>3.0</td>\n",
       "      <td>2.0</td>\n",
       "      <td>93.0</td>\n",
       "      <td>6.0</td>\n",
       "      <td>3.0</td>\n",
       "      <td>0.0</td>\n",
       "      <td>1.0</td>\n",
       "      <td>3.0</td>\n",
       "    </tr>\n",
       "    <tr>\n",
       "      <th>1</th>\n",
       "      <td>2015-01-04 01:00:00</td>\n",
       "      <td>138</td>\n",
       "      <td>3.0</td>\n",
       "      <td>2.5</td>\n",
       "      <td>93.0</td>\n",
       "      <td>5.0</td>\n",
       "      <td>1.0</td>\n",
       "      <td>0.0</td>\n",
       "      <td>1.0</td>\n",
       "      <td>3.0</td>\n",
       "    </tr>\n",
       "    <tr>\n",
       "      <th>2</th>\n",
       "      <td>2015-01-04 02:00:00</td>\n",
       "      <td>134</td>\n",
       "      <td>2.5</td>\n",
       "      <td>2.5</td>\n",
       "      <td>96.5</td>\n",
       "      <td>0.0</td>\n",
       "      <td>1.0</td>\n",
       "      <td>0.0</td>\n",
       "      <td>1.0</td>\n",
       "      <td>3.0</td>\n",
       "    </tr>\n",
       "    <tr>\n",
       "      <th>3</th>\n",
       "      <td>2015-01-04 03:00:00</td>\n",
       "      <td>72</td>\n",
       "      <td>2.0</td>\n",
       "      <td>2.0</td>\n",
       "      <td>100.0</td>\n",
       "      <td>0.0</td>\n",
       "      <td>1.0</td>\n",
       "      <td>0.0</td>\n",
       "      <td>1.0</td>\n",
       "      <td>3.0</td>\n",
       "    </tr>\n",
       "    <tr>\n",
       "      <th>4</th>\n",
       "      <td>2015-01-04 04:00:00</td>\n",
       "      <td>47</td>\n",
       "      <td>2.0</td>\n",
       "      <td>0.0</td>\n",
       "      <td>93.0</td>\n",
       "      <td>6.5</td>\n",
       "      <td>1.0</td>\n",
       "      <td>0.0</td>\n",
       "      <td>1.0</td>\n",
       "      <td>3.0</td>\n",
       "    </tr>\n",
       "  </tbody>\n",
       "</table>\n",
       "</div>"
      ],
      "text/plain": [
       "             timestamp  cnt   t1   t2    hum  wind_speed  weather_code  \\\n",
       "0  2015-01-04 00:00:00  182  3.0  2.0   93.0         6.0           3.0   \n",
       "1  2015-01-04 01:00:00  138  3.0  2.5   93.0         5.0           1.0   \n",
       "2  2015-01-04 02:00:00  134  2.5  2.5   96.5         0.0           1.0   \n",
       "3  2015-01-04 03:00:00   72  2.0  2.0  100.0         0.0           1.0   \n",
       "4  2015-01-04 04:00:00   47  2.0  0.0   93.0         6.5           1.0   \n",
       "\n",
       "   is_holiday  is_weekend  season  \n",
       "0         0.0         1.0     3.0  \n",
       "1         0.0         1.0     3.0  \n",
       "2         0.0         1.0     3.0  \n",
       "3         0.0         1.0     3.0  \n",
       "4         0.0         1.0     3.0  "
      ]
     },
     "execution_count": 9,
     "metadata": {},
     "output_type": "execute_result"
    }
   ],
   "source": [
    "bikes.head(5) # lets see how the dataset looks like"
   ]
  },
  {
   "cell_type": "code",
   "execution_count": 10,
   "id": "2646f671",
   "metadata": {},
   "outputs": [
    {
     "data": {
      "text/plain": [
       "1.0     6150\n",
       "2.0     4034\n",
       "3.0     3551\n",
       "7.0     2141\n",
       "4.0     1464\n",
       "26.0      60\n",
       "10.0      14\n",
       "Name: weather_code, dtype: int64"
      ]
     },
     "execution_count": 10,
     "metadata": {},
     "output_type": "execute_result"
    }
   ],
   "source": [
    "bikes.weather_code.value_counts() # lets check unique values in weather code\n",
    "# bikes.weather_code.value_counts().sum() # check if the sum is equal to the total rows"
   ]
  },
  {
   "cell_type": "code",
   "execution_count": 14,
   "id": "70762685",
   "metadata": {},
   "outputs": [
    {
     "data": {
      "text/plain": [
       "0.0    4394\n",
       "1.0    4387\n",
       "3.0    4330\n",
       "2.0    4303\n",
       "Name: season, dtype: int64"
      ]
     },
     "execution_count": 14,
     "metadata": {},
     "output_type": "execute_result"
    }
   ],
   "source": [
    "bikes.season.value_counts()\n",
    "# bikes.season.value_counts().sum()"
   ]
  },
  {
   "cell_type": "code",
   "execution_count": 15,
   "id": "9414596b",
   "metadata": {},
   "outputs": [],
   "source": [
    "# lets rename the columns for better clarity\n",
    "new_cols_dict = {\n",
    "    'timestamp':'time',\n",
    "    'cnt':'count' ,\n",
    "    't1':'temp_Real_C' ,\n",
    "    't2':'temp_feels_like_C' ,\n",
    "    'hum':'humidity_percent' ,\n",
    "    'wind_speed':'wind_speed_kph' ,\n",
    "    'weather_code':'weather' ,\n",
    "    'is_holiday':'is_holiday' ,\n",
    "    'is_weekend':'is_weekend' ,\n",
    "    'season':'season'\n",
    "}\n",
    "\n",
    "bikes.rename(new_cols_dict, axis = 1, inplace = True)\n",
    "# inplace = True: operation to be performed directly on the original DataFrame, modifying it in place (no new DataFrame created)"
   ]
  },
  {
   "cell_type": "code",
   "execution_count": 17,
   "id": "0446ffb5",
   "metadata": {},
   "outputs": [],
   "source": [
    "# creating season dictionary so that we can map the integer 0-3 to the actual written values\n",
    "season_dict = {\n",
    "    '0.0':'spring',\n",
    "    '1.0':'summer',\n",
    "    '2.0':'fall',\n",
    "    '3.0':'winter'\n",
    "}\n",
    "\n",
    "# creating weather dictionary so that we can map the integer 0-3 to the actual written values\n",
    "weather_dict = {\n",
    "    '1.0':'mostly_clear',\n",
    "    '2.0':'scattered_cloud',\n",
    "    '3.0':'broken_cloud',\n",
    "    '4.0':'cloudy',\n",
    "    '7.0':'rain',\n",
    "    '10.0':'rain_with_thunderstorm',\n",
    "    '26.0':'snowfall'\n",
    "}\n",
    "\n",
    "# change the column name datatypes\n",
    "bikes.season = bikes.season.astype('str')\n",
    "bikes.weather = bikes.weather.astype('str')\n",
    "\n",
    "# change column names by mapping the dictonary values\n",
    "bikes.season = bikes.season.map(season_dict)\n",
    "bikes.weather = bikes.weather.map(weather_dict)"
   ]
  },
  {
   "cell_type": "code",
   "execution_count": 18,
   "id": "63f12193",
   "metadata": {},
   "outputs": [
    {
     "data": {
      "text/html": [
       "<div>\n",
       "<style scoped>\n",
       "    .dataframe tbody tr th:only-of-type {\n",
       "        vertical-align: middle;\n",
       "    }\n",
       "\n",
       "    .dataframe tbody tr th {\n",
       "        vertical-align: top;\n",
       "    }\n",
       "\n",
       "    .dataframe thead th {\n",
       "        text-align: right;\n",
       "    }\n",
       "</style>\n",
       "<table border=\"1\" class=\"dataframe\">\n",
       "  <thead>\n",
       "    <tr style=\"text-align: right;\">\n",
       "      <th></th>\n",
       "      <th>time</th>\n",
       "      <th>count</th>\n",
       "      <th>temp_Real_C</th>\n",
       "      <th>temp_feels_like_C</th>\n",
       "      <th>humidity_percent</th>\n",
       "      <th>wind_speed_kph</th>\n",
       "      <th>weather</th>\n",
       "      <th>is_holiday</th>\n",
       "      <th>is_weekend</th>\n",
       "      <th>season</th>\n",
       "    </tr>\n",
       "  </thead>\n",
       "  <tbody>\n",
       "    <tr>\n",
       "      <th>0</th>\n",
       "      <td>2015-01-04 00:00:00</td>\n",
       "      <td>182</td>\n",
       "      <td>3.0</td>\n",
       "      <td>2.0</td>\n",
       "      <td>93.0</td>\n",
       "      <td>6.0</td>\n",
       "      <td>broken_cloud</td>\n",
       "      <td>0.0</td>\n",
       "      <td>1.0</td>\n",
       "      <td>winter</td>\n",
       "    </tr>\n",
       "    <tr>\n",
       "      <th>1</th>\n",
       "      <td>2015-01-04 01:00:00</td>\n",
       "      <td>138</td>\n",
       "      <td>3.0</td>\n",
       "      <td>2.5</td>\n",
       "      <td>93.0</td>\n",
       "      <td>5.0</td>\n",
       "      <td>mostly_clear</td>\n",
       "      <td>0.0</td>\n",
       "      <td>1.0</td>\n",
       "      <td>winter</td>\n",
       "    </tr>\n",
       "    <tr>\n",
       "      <th>2</th>\n",
       "      <td>2015-01-04 02:00:00</td>\n",
       "      <td>134</td>\n",
       "      <td>2.5</td>\n",
       "      <td>2.5</td>\n",
       "      <td>96.5</td>\n",
       "      <td>0.0</td>\n",
       "      <td>mostly_clear</td>\n",
       "      <td>0.0</td>\n",
       "      <td>1.0</td>\n",
       "      <td>winter</td>\n",
       "    </tr>\n",
       "    <tr>\n",
       "      <th>3</th>\n",
       "      <td>2015-01-04 03:00:00</td>\n",
       "      <td>72</td>\n",
       "      <td>2.0</td>\n",
       "      <td>2.0</td>\n",
       "      <td>100.0</td>\n",
       "      <td>0.0</td>\n",
       "      <td>mostly_clear</td>\n",
       "      <td>0.0</td>\n",
       "      <td>1.0</td>\n",
       "      <td>winter</td>\n",
       "    </tr>\n",
       "    <tr>\n",
       "      <th>4</th>\n",
       "      <td>2015-01-04 04:00:00</td>\n",
       "      <td>47</td>\n",
       "      <td>2.0</td>\n",
       "      <td>0.0</td>\n",
       "      <td>93.0</td>\n",
       "      <td>6.5</td>\n",
       "      <td>mostly_clear</td>\n",
       "      <td>0.0</td>\n",
       "      <td>1.0</td>\n",
       "      <td>winter</td>\n",
       "    </tr>\n",
       "  </tbody>\n",
       "</table>\n",
       "</div>"
      ],
      "text/plain": [
       "                  time  count  temp_Real_C  temp_feels_like_C  \\\n",
       "0  2015-01-04 00:00:00    182          3.0                2.0   \n",
       "1  2015-01-04 01:00:00    138          3.0                2.5   \n",
       "2  2015-01-04 02:00:00    134          2.5                2.5   \n",
       "3  2015-01-04 03:00:00     72          2.0                2.0   \n",
       "4  2015-01-04 04:00:00     47          2.0                0.0   \n",
       "\n",
       "   humidity_percent  wind_speed_kph       weather  is_holiday  is_weekend  \\\n",
       "0              93.0             6.0  broken_cloud         0.0         1.0   \n",
       "1              93.0             5.0  mostly_clear         0.0         1.0   \n",
       "2              96.5             0.0  mostly_clear         0.0         1.0   \n",
       "3             100.0             0.0  mostly_clear         0.0         1.0   \n",
       "4              93.0             6.5  mostly_clear         0.0         1.0   \n",
       "\n",
       "   season  \n",
       "0  winter  \n",
       "1  winter  \n",
       "2  winter  \n",
       "3  winter  \n",
       "4  winter  "
      ]
     },
     "execution_count": 18,
     "metadata": {},
     "output_type": "execute_result"
    }
   ],
   "source": [
    "bikes.head() # lets check if the changes we made are established"
   ]
  },
  {
   "cell_type": "code",
   "execution_count": 21,
   "id": "30f7c1b1",
   "metadata": {},
   "outputs": [
    {
     "name": "stdout",
     "output_type": "stream",
     "text": [
      "<class 'pandas.core.series.Series'>\n",
      "RangeIndex: 17414 entries, 0 to 17413\n",
      "Series name: is_holiday\n",
      "Non-Null Count  Dtype  \n",
      "--------------  -----  \n",
      "17414 non-null  float64\n",
      "dtypes: float64(1)\n",
      "memory usage: 136.2 KB\n",
      "<class 'pandas.core.series.Series'>\n",
      "RangeIndex: 17414 entries, 0 to 17413\n",
      "Series name: is_weekend\n",
      "Non-Null Count  Dtype  \n",
      "--------------  -----  \n",
      "17414 non-null  float64\n",
      "dtypes: float64(1)\n",
      "memory usage: 136.2 KB\n"
     ]
    }
   ],
   "source": [
    "# now we can see that the datatype of is_holiday and is_weekned are float\n",
    "bikes['is_holiday'].info()\n",
    "bikes['is_weekend'].info()\n",
    "\n",
    "# these are not numbers, but categories, thus we need to change the data type to category\n",
    "# note: this step is not necessary as we will be doing visualization directly without any calculations on these fields\n",
    "# thus not performing this step"
   ]
  },
  {
   "cell_type": "code",
   "execution_count": 23,
   "id": "124b6e2a",
   "metadata": {},
   "outputs": [],
   "source": [
    "# lets write the file into an excel\n",
    "bikes.to_excel('C:/Users/rupam/Desktop/LondonBikeSharingDataset/london_bikes_final.xlsx', sheet_name = 'Data')"
   ]
  },
  {
   "cell_type": "markdown",
   "id": "6f076a72",
   "metadata": {},
   "source": [
    "    PLAN VISUALIZATION- TABLEAU"
   ]
  },
  {
   "cell_type": "markdown",
   "id": "3c3a0a4f",
   "metadata": {},
   "source": [
    "1. Find total bikes\n",
    "2. Find the moving average: will be the main visual which will control other visualizations as well\n",
    "3. Temperature vs Wind Speed heat map\n",
    "4. Create statistical information on different segemnts\n",
    "5. Have user defined parameters to control the main visual"
   ]
  },
  {
   "cell_type": "markdown",
   "id": "317f6356",
   "metadata": {},
   "source": [
    "We will connect the final data saved as an excel file to the tableau dashboard. We need to check if the data loaded has the correct/ required data types. The time field was read as a <font color = 'blue'>text</font> data type, whereas it is <font color = 'blue'>date time</font> format.<br>\n",
    "NOTE: the calculations and parameters should be planned beforehand to make visualizations<br>\n"
   ]
  },
  {
   "cell_type": "code",
   "execution_count": null,
   "id": "d27c4e0f",
   "metadata": {},
   "outputs": [],
   "source": []
  }
 ],
 "metadata": {
  "kernelspec": {
   "display_name": "Python 3 (ipykernel)",
   "language": "python",
   "name": "python3"
  },
  "language_info": {
   "codemirror_mode": {
    "name": "ipython",
    "version": 3
   },
   "file_extension": ".py",
   "mimetype": "text/x-python",
   "name": "python",
   "nbconvert_exporter": "python",
   "pygments_lexer": "ipython3",
   "version": "3.9.15"
  }
 },
 "nbformat": 4,
 "nbformat_minor": 5
}
